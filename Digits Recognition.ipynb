{
 "metadata": {
  "name": "",
  "signature": "sha256:f2d30b6532b2ed33d1cba1a69cebd1be718e46e5491f08e19073f84d75f5a4cb"
 },
 "nbformat": 3,
 "nbformat_minor": 0,
 "worksheets": [
  {
   "cells": [
    {
     "cell_type": "heading",
     "level": 2,
     "metadata": {},
     "source": [
      "CAPSTONE PROJECT : Thinkful's \"DATA SCIENCE IN PYTHON\" Course"
     ]
    },
    {
     "cell_type": "heading",
     "level": 3,
     "metadata": {},
     "source": [
      "DIGITS RECOGNITION"
     ]
    },
    {
     "cell_type": "markdown",
     "metadata": {},
     "source": [
      "* Datasets were obtained from Kaggle.\n",
      "* Part of this project was adapted from Jake Vanderplas' sklearn pycon 2015 tutorial     (https://github.com/jakevdp/sklearn_pycon2015)"
     ]
    },
    {
     "cell_type": "heading",
     "level": 4,
     "metadata": {},
     "source": [
      "Import necessary packages\n"
     ]
    },
    {
     "cell_type": "code",
     "collapsed": false,
     "input": [
      "%matplotlib inline\n",
      "import pandas as pd\n",
      "import numpy as np\n",
      "import matplotlib.pyplot as plt\n",
      "import time\n",
      "from sklearn.cross_validation import train_test_split\n",
      "from sklearn.metrics import accuracy_score\n",
      "from sklearn.cross_validation import cross_val_score\n",
      "\n",
      "# seaborn plotting style\n",
      "import seaborn as sns; sns.set()"
     ],
     "language": "python",
     "metadata": {},
     "outputs": [],
     "prompt_number": 42
    },
    {
     "cell_type": "heading",
     "level": 4,
     "metadata": {},
     "source": [
      "Read data and transform into an array"
     ]
    },
    {
     "cell_type": "code",
     "collapsed": false,
     "input": [
      "df = pd.read_csv('/Users/patriciawiharto/Thinkful/Data_Science/Capstone_Project/train.csv')\n",
      "array = df.as_matrix()\n",
      "print array.shape"
     ],
     "language": "python",
     "metadata": {},
     "outputs": [
      {
       "output_type": "stream",
       "stream": "stdout",
       "text": [
        "(42000, 785)\n"
       ]
      }
     ],
     "prompt_number": 2
    },
    {
     "cell_type": "heading",
     "level": 4,
     "metadata": {},
     "source": [
      "Determine the best number of reduced dimensions using PCA"
     ]
    },
    {
     "cell_type": "code",
     "collapsed": false,
     "input": [
      "from sklearn.decomposition import PCA\n",
      "\n",
      "sns.set()\n",
      "pca = PCA()\n",
      "pca.fit(array[:, 1:])\n",
      "plt.plot(np.cumsum(pca.explained_variance_ratio_))\n",
      "plt.xlabel('number of dimensions')\n",
      "plt.ylabel('cumulative explained variance');"
     ],
     "language": "python",
     "metadata": {},
     "outputs": [
      {
       "metadata": {},
       "output_type": "display_data",
       "png": "[encoded data removed]",
       "text": [
        "<matplotlib.figure.Figure at 0x109ba6950>"
       ]
      }
     ],
     "prompt_number": 3
    },
    {
     "cell_type": "heading",
     "level": 4,
     "metadata": {},
     "source": [
      "Reduce dimensions using PCA"
     ]
    },
    {
     "cell_type": "markdown",
     "metadata": {},
     "source": [
      "Based on the graph above, reducing the data dimensions from 784 (excluding label) to 100 seems to be quite reasonable"
     ]
    },
    {
     "cell_type": "code",
     "collapsed": false,
     "input": [
      "pca = PCA(n_components = 100)\n",
      "reduced_arr = pca.fit_transform(array[:, 1:]) # this would be X\n",
      "print reduced_arr.shape"
     ],
     "language": "python",
     "metadata": {},
     "outputs": [
      {
       "output_type": "stream",
       "stream": "stdout",
       "text": [
        "(42000, 100)\n"
       ]
      }
     ],
     "prompt_number": 4
    },
    {
     "cell_type": "heading",
     "level": 4,
     "metadata": {},
     "source": [
      "Split data into test and training data"
     ]
    },
    {
     "cell_type": "code",
     "collapsed": false,
     "input": [
      "train_data, test_data, train_label, test_label = train_test_split(reduced_arr, array[:,0], train_size = 0.5)\n",
      "print 'Train data shape {0}' .format(train_data.shape)\n",
      "print train_data\n",
      "print 'Train label shape {0}' .format(train_label.shape)\n",
      "print train_label\n",
      "print 'Test data shape {0}' .format(test_data.shape)"
     ],
     "language": "python",
     "metadata": {},
     "outputs": [
      {
       "output_type": "stream",
       "stream": "stdout",
       "text": [
        "Train data shape (21000, 100)\n",
        "[[ -714.36231213   145.73903521  -617.45389964 ...,    54.12781988\n",
        "    -44.82826235    -6.59119378]\n",
        " [-1338.83583886  -240.84812368    53.90754648 ...,   -94.33999946\n",
        "    -38.94980327    55.00235715]\n",
        " [  871.54728522   638.20589641  -463.77471021 ...,    16.78791179\n",
        "     -1.93470902   -33.14107769]\n",
        " ..., \n",
        " [  258.17319231   195.63788837  -522.75112637 ...,    51.53834414\n",
        "     45.85157372    14.96254953]\n",
        " [  112.58898561    10.45259101  -719.52902496 ...,   -56.4011389\n",
        "     74.652253     103.26000321]\n",
        " [  803.41326428  -131.3254147    162.16884908 ...,     5.54528159\n",
        "      9.13246418   -23.98364803]]\n",
        "Train label shape (21000,)\n",
        "[0 0 1 ..., 6 8 4]\n",
        "Test data shape (21000, 100)\n"
       ]
      }
     ],
     "prompt_number": 5
    },
    {
     "cell_type": "code",
     "collapsed": false,
     "input": [
      "fig, ax1 = plt.subplots(nrows=1)\n",
      "\n",
      "grid = train_data[0]\n",
      "print grid\n",
      "\n",
      "ax1.imshow(grid)"
     ],
     "language": "python",
     "metadata": {},
     "outputs": [
      {
       "output_type": "stream",
       "stream": "stdout",
       "text": [
        "[ -7.14362312e+02   1.45739035e+02  -6.17453900e+02  -2.34000470e+01\n",
        "  -8.05912328e+02  -3.14061916e+02  -1.38767268e+02   4.05835054e+01\n",
        "  -3.22780513e+02  -5.66554545e+01   3.21891458e+02   1.65567799e+02\n",
        "  -2.07937934e+02  -3.45821403e+02   2.22255748e-01  -4.59351141e+01\n",
        "   1.48029336e+02  -1.82095383e+02  -4.69685178e+01   7.50439189e+01\n",
        "   1.05224615e+01   2.90098816e+02   2.05822010e+02   1.05772088e+02\n",
        "  -1.70214999e+02  -4.57382206e+02  -7.05632036e+01  -4.53657211e+01\n",
        "   2.02163212e+02   1.28002008e+02   2.39264531e+02   6.83775754e+00\n",
        "  -1.09939308e+02   1.61244702e+02  -1.13176974e+02  -1.83742877e+02\n",
        "   9.78409779e+01  -1.66000582e+01   7.52157400e+01   1.19747672e+02\n",
        "  -9.84038104e+01   7.62984547e+01   4.74411104e+01   3.42715009e+01\n",
        "   3.14520853e+00  -1.16996212e+02  -1.42726302e+02   2.77310216e+02\n",
        "  -4.00951801e+01   1.61273163e+01  -1.55564336e+02   8.34745710e+01\n",
        "  -3.98380361e+01   3.49604502e-01  -2.09072449e+02   2.24245570e+01\n",
        "  -6.95434255e+00  -9.08599172e+01   8.72844075e+00   2.24805194e+02\n",
        "  -1.41003614e+02  -1.65253404e+00   2.14811585e+01  -6.30114488e+01\n",
        "   2.53073006e+01   1.66484969e+01  -5.02099704e+01   9.19436781e+01\n",
        "   4.31615902e+01  -6.50350289e+01   5.70364658e+01   3.04102210e+01\n",
        "  -1.71639648e+02   1.18354137e+02  -6.01573137e+01   7.18582081e+00\n",
        "  -2.41884087e+01  -2.55707357e+00   7.08672370e+01   9.20774321e+01\n",
        "  -5.91876748e+01  -3.46491351e+01  -5.50798883e+01   2.66680287e+01\n",
        "  -7.32517506e+00   6.73112113e+00   5.51059740e+01   4.45375009e+01\n",
        "   4.95260028e+01  -4.76163330e+01   5.01249240e+00   1.49303844e+02\n",
        "  -6.39322001e+01  -8.57988086e+01   4.65507909e+01  -9.79943746e+01\n",
        "   4.19737402e-01   5.41278199e+01  -4.48282623e+01  -6.59119378e+00]\n"
       ]
      },
      {
       "ename": "TypeError",
       "evalue": "Invalid dimensions for image data",
       "output_type": "pyerr",
       "traceback": [
        "\u001b[0;31m---------------------------------------------------------------------------\u001b[0m\n\u001b[0;31mTypeError\u001b[0m                                 Traceback (most recent call last)",
        "\u001b[0;32m<ipython-input-108-06fb4c9f42e5>\u001b[0m in \u001b[0;36m<module>\u001b[0;34m()\u001b[0m\n\u001b[1;32m      4\u001b[0m \u001b[0;32mprint\u001b[0m \u001b[0mgrid\u001b[0m\u001b[0;34m\u001b[0m\u001b[0m\n\u001b[1;32m      5\u001b[0m \u001b[0;34m\u001b[0m\u001b[0m\n\u001b[0;32m----> 6\u001b[0;31m \u001b[0max1\u001b[0m\u001b[0;34m.\u001b[0m\u001b[0mimshow\u001b[0m\u001b[0;34m(\u001b[0m\u001b[0mgrid\u001b[0m\u001b[0;34m)\u001b[0m\u001b[0;34m\u001b[0m\u001b[0m\n\u001b[0m",
        "\u001b[0;32m/Users/patriciawiharto/anaconda/lib/python2.7/site-packages/matplotlib/axes/_axes.pyc\u001b[0m in \u001b[0;36mimshow\u001b[0;34m(self, X, cmap, norm, aspect, interpolation, alpha, vmin, vmax, origin, extent, shape, filternorm, filterrad, imlim, resample, url, **kwargs)\u001b[0m\n\u001b[1;32m   4628\u001b[0m                        filterrad=filterrad, resample=resample, **kwargs)\n\u001b[1;32m   4629\u001b[0m \u001b[0;34m\u001b[0m\u001b[0m\n\u001b[0;32m-> 4630\u001b[0;31m         \u001b[0mim\u001b[0m\u001b[0;34m.\u001b[0m\u001b[0mset_data\u001b[0m\u001b[0;34m(\u001b[0m\u001b[0mX\u001b[0m\u001b[0;34m)\u001b[0m\u001b[0;34m\u001b[0m\u001b[0m\n\u001b[0m\u001b[1;32m   4631\u001b[0m         \u001b[0mim\u001b[0m\u001b[0;34m.\u001b[0m\u001b[0mset_alpha\u001b[0m\u001b[0;34m(\u001b[0m\u001b[0malpha\u001b[0m\u001b[0;34m)\u001b[0m\u001b[0;34m\u001b[0m\u001b[0m\n\u001b[1;32m   4632\u001b[0m         \u001b[0;32mif\u001b[0m \u001b[0mim\u001b[0m\u001b[0;34m.\u001b[0m\u001b[0mget_clip_path\u001b[0m\u001b[0;34m(\u001b[0m\u001b[0;34m)\u001b[0m \u001b[0;32mis\u001b[0m \u001b[0mNone\u001b[0m\u001b[0;34m:\u001b[0m\u001b[0;34m\u001b[0m\u001b[0m\n",
        "\u001b[0;32m/Users/patriciawiharto/anaconda/lib/python2.7/site-packages/matplotlib/image.pyc\u001b[0m in \u001b[0;36mset_data\u001b[0;34m(self, A)\u001b[0m\n\u001b[1;32m    432\u001b[0m         if (self._A.ndim not in (2, 3) or\n\u001b[1;32m    433\u001b[0m             (self._A.ndim == 3 and self._A.shape[-1] not in (3, 4))):\n\u001b[0;32m--> 434\u001b[0;31m             \u001b[0;32mraise\u001b[0m \u001b[0mTypeError\u001b[0m\u001b[0;34m(\u001b[0m\u001b[0;34m\"Invalid dimensions for image data\"\u001b[0m\u001b[0;34m)\u001b[0m\u001b[0;34m\u001b[0m\u001b[0m\n\u001b[0m\u001b[1;32m    435\u001b[0m \u001b[0;34m\u001b[0m\u001b[0m\n\u001b[1;32m    436\u001b[0m         \u001b[0mself\u001b[0m\u001b[0;34m.\u001b[0m\u001b[0m_imcache\u001b[0m \u001b[0;34m=\u001b[0m \u001b[0mNone\u001b[0m\u001b[0;34m\u001b[0m\u001b[0m\n",
        "\u001b[0;31mTypeError\u001b[0m: Invalid dimensions for image data"
       ]
      },
      {
       "metadata": {},
       "output_type": "display_data",
       "png": "[encoded data removed]",
       "text": [
        "<matplotlib.figure.Figure at 0x151a42c50>"
       ]
      }
     ],
     "prompt_number": 108
    },
    {
     "cell_type": "heading",
     "level": 2,
     "metadata": {},
     "source": [
      "COMPARING DIFFERENT MODELS"
     ]
    },
    {
     "cell_type": "heading",
     "level": 3,
     "metadata": {},
     "source": [
      "I. SVM (Support Vector Machine)"
     ]
    },
    {
     "cell_type": "heading",
     "level": 4,
     "metadata": {},
     "source": [
      "Fit training data and predict test data"
     ]
    },
    {
     "cell_type": "code",
     "collapsed": false,
     "input": [
      "from sklearn.svm import SVC\n",
      "\n",
      "clf = SVC(kernel = 'poly')\n",
      "print clf.fit(train_data, train_label)\n",
      "pred_label = clf.predict(test_data)"
     ],
     "language": "python",
     "metadata": {},
     "outputs": [
      {
       "output_type": "stream",
       "stream": "stdout",
       "text": [
        "SVC(C=1.0, cache_size=200, class_weight=None, coef0=0.0, degree=3, gamma=0.0,\n",
        "  kernel='poly', max_iter=-1, probability=False, random_state=None,\n",
        "  shrinking=True, tol=0.001, verbose=False)\n"
       ]
      }
     ],
     "prompt_number": 6
    },
    {
     "cell_type": "heading",
     "level": 4,
     "metadata": {},
     "source": [
      "Validation using 'accuracy score' and 'cross validation'"
     ]
    },
    {
     "cell_type": "code",
     "collapsed": false,
     "input": [
      "# Accuracy score with default SVC parameters and 'poly' kernel\n",
      "print 'With default SVC parameters and \"poly\" kernel, SVM model accuracy score is {0}' .format(accuracy_score(test_label, pred_label))"
     ],
     "language": "python",
     "metadata": {},
     "outputs": [
      {
       "output_type": "stream",
       "stream": "stdout",
       "text": [
        "With default SVC parameters and \"poly\" kernel, SVM model accuracy score is 0.978476190476\n"
       ]
      }
     ],
     "prompt_number": 7
    },
    {
     "cell_type": "code",
     "collapsed": false,
     "input": [
      "# Cross validation\n",
      "cv = cross_val_score(SVC(kernel = 'poly'), reduced_arr, array[:,0], cv = 3)\n",
      "cv.mean()"
     ],
     "language": "python",
     "metadata": {},
     "outputs": [
      {
       "metadata": {},
       "output_type": "pyout",
       "prompt_number": 8,
       "text": [
        "0.97947615562985513"
       ]
      }
     ],
     "prompt_number": 8
    },
    {
     "cell_type": "heading",
     "level": 4,
     "metadata": {},
     "source": [
      "View where the errors are using confusion matrix"
     ]
    },
    {
     "cell_type": "code",
     "collapsed": false,
     "input": [
      "from sklearn.metrics import confusion_matrix\n",
      "\n",
      "print confusion_matrix(test_label, pred_label)"
     ],
     "language": "python",
     "metadata": {},
     "outputs": [
      {
       "output_type": "stream",
       "stream": "stdout",
       "text": [
        "[[2036    1    2    0    0    3    6    1    3    3]\n",
        " [   0 2296    5    2    6    0    3    5    2    1]\n",
        " [   4    3 2031    3    3    0    3   11   16    4]\n",
        " [   1    0   15 2095    0   13    1    6   19    7]\n",
        " [   3    4    1    0 2006    0    5    3    2   29]\n",
        " [   3    0    1   20    2 1849    8    1   12    5]\n",
        " [   6    2    5    0    5   14 2014    0    4    0]\n",
        " [   1    6   18    2    8    1    0 2188    1    8]\n",
        " [   2    1    6   12    3   10    3    3 1998   10]\n",
        " [   4    1    1   14   20    5    0   16    9 2035]]\n"
       ]
      }
     ],
     "prompt_number": 9
    },
    {
     "cell_type": "code",
     "collapsed": false,
     "input": [
      "# Adapted from Jake Vanderplas' sklearn pycon 2015, \"Basic Principles\"\n",
      "plt.imshow(np.log(confusion_matrix(test_label, pred_label)),\n",
      "           cmap='coolwarm', interpolation='nearest')\n",
      "plt.grid(False)\n",
      "plt.ylabel('True Label')\n",
      "plt.xlabel('Predicted Label');"
     ],
     "language": "python",
     "metadata": {},
     "outputs": [
      {
       "metadata": {},
       "output_type": "display_data",
       "png": "[encoded data removed]",
       "text": [
        "<matplotlib.figure.Figure at 0x109dadfd0>"
       ]
      }
     ],
     "prompt_number": 10
    },
    {
     "cell_type": "heading",
     "level": 3,
     "metadata": {},
     "source": [
      "II. Random Forest and Extra Trees Classifiers"
     ]
    },
    {
     "cell_type": "heading",
     "level": 4,
     "metadata": {},
     "source": [
      "Import package, fit training data and predict test data using default parameters"
     ]
    },
    {
     "cell_type": "code",
     "collapsed": false,
     "input": [
      "from sklearn.ensemble import RandomForestClassifier, ExtraTreesClassifier\n",
      "\n",
      "model1 = RandomForestClassifier().fit(train_data, train_label)\n",
      "test_pred1 = model1.predict(test_data)\n",
      "print 'With default parameters, random forest gives {0} accuracy' .format(accuracy_score(test_label, test_pred1)*100)\n",
      "\n",
      "xtra1 = ExtraTreesClassifier().fit(train_data, train_label)\n",
      "xtra_pred1 = xtra1.predict(test_data)\n",
      "print 'With default parameters, extra tress gives {0} accuracy' .format(accuracy_score(test_label, xtra_pred1)*100)"
     ],
     "language": "python",
     "metadata": {},
     "outputs": [
      {
       "output_type": "stream",
       "stream": "stdout",
       "text": [
        "With default parameters, random forest gives 88.3523809524 accuracy\n",
        "With default parameters, extra tress gives 85.9142857143 accuracy"
       ]
      },
      {
       "output_type": "stream",
       "stream": "stdout",
       "text": [
        "\n"
       ]
      }
     ],
     "prompt_number": 43
    },
    {
     "cell_type": "heading",
     "level": 4,
     "metadata": {},
     "source": [
      "Adjusting parameters to find optimal accuracy score"
     ]
    },
    {
     "cell_type": "code",
     "collapsed": false,
     "input": [
      "# Accuracy score with increasing number of max_depth\n",
      "print 'Random Forest Classifier : \\n'\n",
      "for depth in [3, 5, 10, 15, 20, 25, 30]:\n",
      "    forest = RandomForestClassifier(max_depth = depth)\n",
      "    forest.fit(train_data, train_label)\n",
      "    forest_pred = forest.predict(test_data)\n",
      "    print 'Max depth of {0}, accuracy score = {1}' .format(depth, (accuracy_score(test_label, forest_pred))*100)\n",
      "\n",
      "print '\\nExtra Trees Classifier : \\n'\n",
      "for depth in [3, 5, 10, 15, 20, 25, 30]:\n",
      "    forest = ExtraTreesClassifier(max_depth = depth)\n",
      "    forest.fit(train_data, train_label)\n",
      "    forest_pred = forest.predict(test_data)\n",
      "    print 'Max depth of {0}, accuracy score = {1}' .format(depth, (accuracy_score(test_label, forest_pred))*100)"
     ],
     "language": "python",
     "metadata": {},
     "outputs": [
      {
       "output_type": "stream",
       "stream": "stdout",
       "text": [
        "Random Forest Classifier : \n",
        "\n",
        "Max depth of 3, accuracy score = 58.2285714286"
       ]
      },
      {
       "output_type": "stream",
       "stream": "stdout",
       "text": [
        "\n",
        "Max depth of 5, accuracy score = 75.3285714286"
       ]
      },
      {
       "output_type": "stream",
       "stream": "stdout",
       "text": [
        "\n",
        "Max depth of 10, accuracy score = 86.6333333333"
       ]
      },
      {
       "output_type": "stream",
       "stream": "stdout",
       "text": [
        "\n",
        "Max depth of 15, accuracy score = 88.2761904762"
       ]
      },
      {
       "output_type": "stream",
       "stream": "stdout",
       "text": [
        "\n",
        "Max depth of 20, accuracy score = 88.1761904762"
       ]
      },
      {
       "output_type": "stream",
       "stream": "stdout",
       "text": [
        "\n",
        "Max depth of 25, accuracy score = 87.5761904762"
       ]
      },
      {
       "output_type": "stream",
       "stream": "stdout",
       "text": [
        "\n",
        "Max depth of 30, accuracy score = 87.8"
       ]
      },
      {
       "output_type": "stream",
       "stream": "stdout",
       "text": [
        "\n",
        "\n",
        "Extra Trees Classifier : \n",
        "\n",
        "Max depth of 3, accuracy score = 57.5"
       ]
      },
      {
       "output_type": "stream",
       "stream": "stdout",
       "text": [
        "\n",
        "Max depth of 5, accuracy score = 65.7142857143"
       ]
      },
      {
       "output_type": "stream",
       "stream": "stdout",
       "text": [
        "\n",
        "Max depth of 10, accuracy score = 80.5"
       ]
      },
      {
       "output_type": "stream",
       "stream": "stdout",
       "text": [
        "\n",
        "Max depth of 15, accuracy score = 84.5238095238"
       ]
      },
      {
       "output_type": "stream",
       "stream": "stdout",
       "text": [
        "\n",
        "Max depth of 20, accuracy score = 86.119047619"
       ]
      },
      {
       "output_type": "stream",
       "stream": "stdout",
       "text": [
        "\n",
        "Max depth of 25, accuracy score = 86.119047619"
       ]
      },
      {
       "output_type": "stream",
       "stream": "stdout",
       "text": [
        "\n",
        "Max depth of 30, accuracy score = 85.2523809524"
       ]
      },
      {
       "output_type": "stream",
       "stream": "stdout",
       "text": [
        "\n"
       ]
      }
     ],
     "prompt_number": 47
    },
    {
     "cell_type": "markdown",
     "metadata": {},
     "source": [
      "Random forest clf highest accuracy score in the adjusted max_depth is about the same as the unadjusted max_depth, which is ~88%\n",
      "Extra trees clf is about 2% lower, but code processing speed is faster than random forest.\n",
      "Code processing speed is illustrated below."
     ]
    },
    {
     "cell_type": "code",
     "collapsed": false,
     "input": [
      "# Accuracy score using max_depth = 15 and increasing number of trees using random forest classifier\n",
      "t0 = time.time()\n",
      "\n",
      "x = range(10, 130, 10)\n",
      "y = []\n",
      "for tree in x:\n",
      "    forest = RandomForestClassifier(max_depth=15, n_estimators=tree)\n",
      "    forest.fit(train_data, train_label)\n",
      "    forest_pred = forest.predict(test_data)\n",
      "    #print '{0} trees, accuracy is {1}' .format(tree, (accuracy_score(test_label, forest_pred))*100)\n",
      "    y.append((accuracy_score(test_label, forest_pred))*100)\n",
      "    \n",
      "plt.plot(x, y, color='green', linestyle='solid', marker='o')\n",
      "plt.xlabel('Number of trees')\n",
      "plt.ylabel('Accuracy score (%)')\n",
      "\n",
      "t1 = time.time()\n",
      "print 'Speed for random forest model is {0} seconds.'.format(t1 - t0)"
     ],
     "language": "python",
     "metadata": {},
     "outputs": [
      {
       "output_type": "stream",
       "stream": "stdout",
       "text": [
        "Speed for random forest model is 233.107460022 seconds.\n"
       ]
      },
      {
       "metadata": {},
       "output_type": "display_data",
       "png": "[encoded data removed]",
       "text": [
        "<matplotlib.figure.Figure at 0x10efc4cd0>"
       ]
      }
     ],
     "prompt_number": 48
    },
    {
     "cell_type": "code",
     "collapsed": false,
     "input": [
      "model2 = RandomForestClassifier(max_depth=15, n_estimators=120)\n",
      "model2.fit(train_data, train_label)\n",
      "test_pred2 = model.predict(test_data)\n",
      "print 'With adjusted parameters, random forest accuracy is {0}' .format(accuracy_score(test_label, test_pred2)*100)"
     ],
     "language": "python",
     "metadata": {},
     "outputs": [
      {
       "output_type": "stream",
       "stream": "stdout",
       "text": [
        "With adjusted parameters, random forest accuracy is 93.6142857143\n"
       ]
      }
     ],
     "prompt_number": 52
    },
    {
     "cell_type": "code",
     "collapsed": false,
     "input": [
      "# Accuracy score using max_depth = 20 and increasing number of trees using extra trees classifier\n",
      "t0 = time.time()\n",
      "\n",
      "x = range(10, 130, 10)\n",
      "y = []\n",
      "for tree in x:\n",
      "    forest = ExtraTreesClassifier(max_depth=20, n_estimators=tree)\n",
      "    forest.fit(train_data, train_label)\n",
      "    forest_pred = forest.predict(test_data)\n",
      "    #print '{0} trees, accuracy is {1}' .format(tree, (accuracy_score(test_label, forest_pred))*100)\n",
      "    y.append((accuracy_score(test_label, forest_pred))*100)\n",
      "    \n",
      "plt.plot(x, y, color='green', linestyle='solid', marker='o')\n",
      "plt.xlabel('Number of trees')\n",
      "plt.ylabel('Accuracy score (%)')\n",
      "\n",
      "t1 = time.time()\n",
      "print 'Speed for extra trees model is {0} seconds.'.format(t1 - t0)"
     ],
     "language": "python",
     "metadata": {},
     "outputs": [
      {
       "output_type": "stream",
       "stream": "stdout",
       "text": [
        "Speed for extra trees model is 64.0355198383 seconds.\n"
       ]
      },
      {
       "metadata": {},
       "output_type": "display_data",
       "png": "[encoded data removed]",
       "text": [
        "<matplotlib.figure.Figure at 0x119017e50>"
       ]
      }
     ],
     "prompt_number": 50
    },
    {
     "cell_type": "code",
     "collapsed": false,
     "input": [
      "xtra2 = ExtraTreesClassifier(max_depth=20, n_estimators=120)\n",
      "xtra2.fit(train_data, train_label)\n",
      "xtra_pred2 = model.predict(test_data)\n",
      "print 'With adjusted parameters, random forest accuracy is {0}' .format(accuracy_score(test_label, xtra_pred2)*100)"
     ],
     "language": "python",
     "metadata": {},
     "outputs": [
      {
       "output_type": "stream",
       "stream": "stdout",
       "text": [
        "With adjusted parameters, random forest accuracy is 93.6142857143\n"
       ]
      }
     ],
     "prompt_number": 57
    },
    {
     "cell_type": "heading",
     "level": 4,
     "metadata": {},
     "source": [
      "Cross validation"
     ]
    },
    {
     "cell_type": "code",
     "collapsed": false,
     "input": [
      "# Cross validation\n",
      "cv1 = cross_val_score(RandomForestClassifier(max_depth=15, n_estimators=120), reduced_arr, array[:,0], cv = 5)\n",
      "print 'Mean of cross validation for random forest clf is {0}' .format(cv1.mean()*100)\n",
      "cv2 = cross_val_score(ExtraTreesClassifier(max_depth=20, n_estimators=120), reduced_arr, array[:,0], cv = 5)\n",
      "print 'Mean of cross validation for extra trees clf is {0}' .format(cv2.mean()*100)"
     ],
     "language": "python",
     "metadata": {},
     "outputs": [
      {
       "output_type": "stream",
       "stream": "stdout",
       "text": [
        "Mean of cross validation for random forest clf is 93.9643597969\n",
        "Mean of cross validation for extra trees clf is 94.9213996445"
       ]
      },
      {
       "output_type": "stream",
       "stream": "stdout",
       "text": [
        "\n"
       ]
      }
     ],
     "prompt_number": 53
    },
    {
     "cell_type": "heading",
     "level": 4,
     "metadata": {},
     "source": [
      "View where the errors are using confusion matrix"
     ]
    },
    {
     "cell_type": "code",
     "collapsed": false,
     "input": [
      "print 'Confusion matrix of default random forest \\n{0} \\n\\n \\\n",
      "Confusion matrix of adjusted random forest \\n{1} \\n\\n \\\n",
      "Confusion matrix of extra trees clf \\n{2}'.format(confusion_matrix(test_label, test_pred1), \\\n",
      "                                                  confusion_matrix(test_label, test_pred2), \\\n",
      "                                                  confusion_matrix(test_label, xtra_pred2)) "
     ],
     "language": "python",
     "metadata": {},
     "outputs": [
      {
       "output_type": "stream",
       "stream": "stdout",
       "text": [
        "Confusion matrix of default random forest \n",
        "[[1971    1   14   17    2    9   24    3    7    7]\n",
        " [   2 2273    5   13    2    7    3    5    7    3]\n",
        " [  44   13 1851   46   19    2   19   27   47   10]\n",
        " [  16   13   65 1908   10   61    9   13   49   13]\n",
        " [  10   18   43   12 1799   12   20   18   18  103]\n",
        " [  49    7   42  144   27 1526   22    5   54   25]\n",
        " [  30    5   49    8   20   40 1885    0   11    2]\n",
        " [  19   26   56   12   48    7    2 1995    9   59]\n",
        " [  39   18   59  118   29   82   17   25 1636   25]\n",
        " [  23   11   15   32  155   22   14  102   21 1710]] \n",
        "\n",
        " Confusion matrix of adjusted random forest \n",
        "[[2005    0    6    7    3    6   18    3    6    1]\n",
        " [   0 2277    8   14    0    5    5    3    6    2]\n",
        " [  14    8 1920   27   27    0    9   22   47    4]\n",
        " [   6    6   31 1973    1   51    4   17   50   18]\n",
        " [   3   12   14    2 1924    3   14    5   12   64]\n",
        " [  11    2    7   67   15 1740   23    2   20   14]\n",
        " [  11    2    9    3    6   24 1988    0    7    0]\n",
        " [   6   17   34    3   16    2    1 2096   14   44]\n",
        " [  10   13   16   68   14   50   11   10 1829   27]\n",
        " [  14    6    4   34   64   12    1   45   18 1907]] \n",
        "\n",
        " Confusion matrix of extra trees clf \n",
        "[[2005    0    6    7    3    6   18    3    6    1]\n",
        " [   0 2277    8   14    0    5    5    3    6    2]\n",
        " [  14    8 1920   27   27    0    9   22   47    4]\n",
        " [   6    6   31 1973    1   51    4   17   50   18]\n",
        " [   3   12   14    2 1924    3   14    5   12   64]\n",
        " [  11    2    7   67   15 1740   23    2   20   14]\n",
        " [  11    2    9    3    6   24 1988    0    7    0]\n",
        " [   6   17   34    3   16    2    1 2096   14   44]\n",
        " [  10   13   16   68   14   50   11   10 1829   27]\n",
        " [  14    6    4   34   64   12    1   45   18 1907]]\n"
       ]
      }
     ],
     "prompt_number": 64
    },
    {
     "cell_type": "heading",
     "level": 4,
     "metadata": {},
     "source": [
      "Summary of Random Forest and Extra Trees Classifiers"
     ]
    },
    {
     "cell_type": "markdown",
     "metadata": {},
     "source": [
      "Extra trees classifier performs a lot faster than random forest at increasing number of trees and max_depth. Results of the two at the end are exactly the same. Since Extra trees improves the predictive accuracy and controls over-fitting, it seems more reasonable to use it when parameters such as max_depth and n_estimators are maximized."
     ]
    },
    {
     "cell_type": "heading",
     "level": 3,
     "metadata": {},
     "source": [
      "III. K-Nearest Neighbour (KNN)"
     ]
    },
    {
     "cell_type": "code",
     "collapsed": false,
     "input": [
      "from sklearn.neighbors import KNeighborsClassifier\n",
      "\n",
      "model3 = KNeighborsClassifier(n_neighbors=1)\n",
      "model3.fit(train_data, train_label)\n",
      "model3_pred = model3.predict(test_data)\n",
      "accuracy_score(test_label, model3_pred)"
     ],
     "language": "python",
     "metadata": {},
     "outputs": [
      {
       "metadata": {},
       "output_type": "pyout",
       "prompt_number": 70,
       "text": [
        "0.96447619047619049"
       ]
      }
     ],
     "prompt_number": 70
    }
   ],
   "metadata": {}
  }
 ]
}