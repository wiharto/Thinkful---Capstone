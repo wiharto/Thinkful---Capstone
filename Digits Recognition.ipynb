{
 "metadata": {
  "name": "",
  "signature": "sha256:91ba9c90347962990b660ed0c47caef80b206e1f8651da3b4aca8898aa7acac6"
 },
 "nbformat": 3,
 "nbformat_minor": 0,
 "worksheets": [
  {
   "cells": [
    {
     "cell_type": "heading",
     "level": 2,
     "metadata": {},
     "source": [
      "CAPSTONE PROJECT : Thinkful's \"DATA SCIENCE IN PYTHON\" Course"
     ]
    },
    {
     "cell_type": "heading",
     "level": 3,
     "metadata": {},
     "source": [
      "DIGITS RECOGNITION"
     ]
    },
    {
     "cell_type": "markdown",
     "metadata": {},
     "source": [
      "* Datasets were obtained from Kaggle (https://www.kaggle.com/c/digit-recognizer/data).\n",
      "* Part of this project was adapted from Jake Vanderplas' sklearn pycon 2015 tutorial     (https://github.com/jakevdp/sklearn_pycon2015)"
     ]
    },
    {
     "cell_type": "heading",
     "level": 4,
     "metadata": {},
     "source": [
      "Import necessary packages\n"
     ]
    },
    {
     "cell_type": "code",
     "collapsed": false,
     "input": [
      "%matplotlib inline\n",
      "import pandas as pd\n",
      "import numpy as np\n",
      "import matplotlib.pyplot as plt\n",
      "import time\n",
      "from sklearn.cross_validation import train_test_split\n",
      "from sklearn.metrics import accuracy_score\n",
      "from sklearn.cross_validation import cross_val_score\n",
      "\n",
      "# seaborn plotting style\n",
      "import seaborn as sns; sns.set()"
     ],
     "language": "python",
     "metadata": {},
     "outputs": [],
     "prompt_number": 1
    },
    {
     "cell_type": "heading",
     "level": 4,
     "metadata": {},
     "source": [
      "Read data and transform into an array"
     ]
    },
    {
     "cell_type": "code",
     "collapsed": false,
     "input": [
      "df = pd.read_csv('/Users/patriciawiharto/Thinkful/Data_Science/Capstone_Project/train.csv')\n",
      "array = df.as_matrix()\n",
      "print array.shape"
     ],
     "language": "python",
     "metadata": {},
     "outputs": [
      {
       "output_type": "stream",
       "stream": "stdout",
       "text": [
        "(42000, 785)\n"
       ]
      }
     ],
     "prompt_number": 2
    },
    {
     "cell_type": "heading",
     "level": 4,
     "metadata": {},
     "source": [
      "Determine the best number of reduced dimensions using PCA"
     ]
    },
    {
     "cell_type": "code",
     "collapsed": false,
     "input": [
      "from sklearn.decomposition import PCA\n",
      "\n",
      "sns.set()\n",
      "pca = PCA()\n",
      "pca.fit(array[:, 1:])\n",
      "plt.plot(np.cumsum(pca.explained_variance_ratio_))\n",
      "plt.xlabel('number of dimensions')\n",
      "plt.ylabel('cumulative explained variance');"
     ],
     "language": "python",
     "metadata": {},
     "outputs": [
      {
       "metadata": {},
       "output_type": "display_data",
       "png": "[encoded data removed]",
       "text": [
        "<matplotlib.figure.Figure at 0x12b893510>"
       ]
      }
     ],
     "prompt_number": 3
    },
    {
     "cell_type": "heading",
     "level": 4,
     "metadata": {},
     "source": [
      "Reduce dimensions using PCA"
     ]
    },
    {
     "cell_type": "markdown",
     "metadata": {},
     "source": [
      "Based on the graph above, reducing the data dimensions from 784 (excluding label) to 100 seems to be quite reasonable"
     ]
    },
    {
     "cell_type": "code",
     "collapsed": false,
     "input": [
      "pca = PCA(n_components = 100)\n",
      "reduced_arr = pca.fit_transform(array[:, 1:]) # this would be X\n",
      "print reduced_arr.shape"
     ],
     "language": "python",
     "metadata": {},
     "outputs": [
      {
       "output_type": "stream",
       "stream": "stdout",
       "text": [
        "(42000, 100)\n"
       ]
      }
     ],
     "prompt_number": 4
    },
    {
     "cell_type": "heading",
     "level": 4,
     "metadata": {},
     "source": [
      "Split data into test and training data"
     ]
    },
    {
     "cell_type": "code",
     "collapsed": false,
     "input": [
      "# Split complete sample\n",
      "c_train_data, c_test_data, c_train_label, c_test_label = train_test_split(reduced_arr, array[:,0], train_size = 0.5)\n",
      "print c_train_data.shape\n",
      "print c_train_label.shape\n",
      "print c_train_label\n",
      "\n",
      "# Split c_train_data and c_train_label into train_data and train_label to decrease number of samples to speed up process\n",
      "train_data, test_data, train_label, test_label = train_test_split(c_train_data, c_train_label, train_size = 0.5)\n",
      "print train_data.shape\n",
      "print train_label.shape\n",
      "print train_label"
     ],
     "language": "python",
     "metadata": {},
     "outputs": [
      {
       "output_type": "stream",
       "stream": "stdout",
       "text": [
        "(21000, 100)\n",
        "(21000,)\n",
        "[0 9 1 ..., 3 2 8]\n",
        "(10500, 100)\n",
        "(10500,)\n",
        "[9 7 2 ..., 6 6 2]\n"
       ]
      }
     ],
     "prompt_number": 11
    },
    {
     "cell_type": "heading",
     "level": 2,
     "metadata": {},
     "source": [
      "COMPARING DIFFERENT MODELS"
     ]
    },
    {
     "cell_type": "heading",
     "level": 3,
     "metadata": {},
     "source": [
      "I. SVM (Support Vector Machine)"
     ]
    },
    {
     "cell_type": "heading",
     "level": 4,
     "metadata": {},
     "source": [
      "Fit training data and predict test data"
     ]
    },
    {
     "cell_type": "code",
     "collapsed": false,
     "input": [
      "from sklearn.svm import SVC\n",
      "\n",
      "clf = SVC(kernel = 'poly')\n",
      "print clf.fit(train_data, train_label)\n",
      "pred_label = clf.predict(test_data)"
     ],
     "language": "python",
     "metadata": {},
     "outputs": [
      {
       "output_type": "stream",
       "stream": "stdout",
       "text": [
        "SVC(C=1.0, cache_size=200, class_weight=None, coef0=0.0, degree=3, gamma=0.0,\n",
        "  kernel='poly', max_iter=-1, probability=False, random_state=None,\n",
        "  shrinking=True, tol=0.001, verbose=False)\n"
       ]
      }
     ],
     "prompt_number": 12
    },
    {
     "cell_type": "heading",
     "level": 4,
     "metadata": {},
     "source": [
      "Validation using 'accuracy score' and 'cross validation'"
     ]
    },
    {
     "cell_type": "code",
     "collapsed": false,
     "input": [
      "# Accuracy score with default SVC parameters and 'poly' kernel\n",
      "print 'With default SVC parameters and \"poly\" kernel, SVM model accuracy score is {0}' .format(accuracy_score(test_label, pred_label))"
     ],
     "language": "python",
     "metadata": {},
     "outputs": [
      {
       "output_type": "stream",
       "stream": "stdout",
       "text": [
        "With default SVC parameters and \"poly\" kernel, SVM model accuracy score is 0.971333333333\n"
       ]
      }
     ],
     "prompt_number": 13
    },
    {
     "cell_type": "code",
     "collapsed": false,
     "input": [
      "# Cross validation using the entire sample (42,000)\n",
      "#cv1 = cross_val_score(SVC(kernel = 'poly'), reduced_arr, array[:,0], cv = 3)\n",
      "#print cv1.mean()\n",
      "\n",
      "# Cross validation using smaller samples (21,000)\n",
      "cv2 = cross_val_score(SVC(kernel='poly'), train_data, train_label, cv = 5)\n",
      "print cv2.mean()"
     ],
     "language": "python",
     "metadata": {},
     "outputs": [
      {
       "output_type": "stream",
       "stream": "stdout",
       "text": [
        "0.97947615563\n",
        "0.966569000029"
       ]
      },
      {
       "output_type": "stream",
       "stream": "stdout",
       "text": [
        "\n"
       ]
      }
     ],
     "prompt_number": 17
    },
    {
     "cell_type": "heading",
     "level": 4,
     "metadata": {},
     "source": [
      "View where the errors are using confusion matrix"
     ]
    },
    {
     "cell_type": "code",
     "collapsed": false,
     "input": [
      "from sklearn.metrics import confusion_matrix\n",
      "\n",
      "print confusion_matrix(test_label, pred_label)"
     ],
     "language": "python",
     "metadata": {},
     "outputs": [
      {
       "output_type": "stream",
       "stream": "stdout",
       "text": [
        "[[ 983    0    2    1    1    1    6    1    4    0]\n",
        " [   0 1178    5    4    3    0    2    1    3    2]\n",
        " [   3    2  968    3    4    2    1   14    7    2]\n",
        " [   1    0    9 1008    1    9    0    2   14    7]\n",
        " [   0    2    1    0 1023    0    2    1    1   15]\n",
        " [   3    0    0   13    0  930    6    0    7    7]\n",
        " [   8    0    1    0    3    3 1014    0    6    0]\n",
        " [   1    4    5    2    3    1    0 1090    1   11]\n",
        " [   3    1    4    4    3    6    3    3  957    0]\n",
        " [   1    1    6    8   10    5    1    8   10 1048]]\n"
       ]
      }
     ],
     "prompt_number": 18
    },
    {
     "cell_type": "code",
     "collapsed": false,
     "input": [
      "# Adapted from Jake Vanderplas' sklearn pycon 2015, \"Basic Principles\"\n",
      "plt.imshow(np.log(confusion_matrix(test_label, pred_label)),\n",
      "           cmap='coolwarm', interpolation='nearest')\n",
      "plt.grid(False)\n",
      "plt.ylabel('True Label')\n",
      "plt.xlabel('Predicted Label');"
     ],
     "language": "python",
     "metadata": {},
     "outputs": [
      {
       "metadata": {},
       "output_type": "display_data",
       "png": "[encoded data removed]",
       "text": [
        "<matplotlib.figure.Figure at 0x10e676250>"
       ]
      }
     ],
     "prompt_number": 19
    },
    {
     "cell_type": "heading",
     "level": 3,
     "metadata": {},
     "source": [
      "II. Random Forest and Extra Trees Classifiers"
     ]
    },
    {
     "cell_type": "heading",
     "level": 4,
     "metadata": {},
     "source": [
      "Import package, fit training data and predict test data using default parameters"
     ]
    },
    {
     "cell_type": "code",
     "collapsed": false,
     "input": [
      "from sklearn.ensemble import RandomForestClassifier, ExtraTreesClassifier\n",
      "\n",
      "model1 = RandomForestClassifier().fit(train_data, train_label)\n",
      "test_pred1 = model1.predict(test_data)\n",
      "print 'With default parameters, random forest gives {0} accuracy' .format(accuracy_score(test_label, test_pred1)*100)\n",
      "\n",
      "xtra1 = ExtraTreesClassifier().fit(train_data, train_label)\n",
      "xtra_pred1 = xtra1.predict(test_data)\n",
      "print 'With default parameters, extra tress gives {0} accuracy' .format(accuracy_score(test_label, xtra_pred1)*100)"
     ],
     "language": "python",
     "metadata": {},
     "outputs": [
      {
       "output_type": "stream",
       "stream": "stdout",
       "text": [
        "With default parameters, random forest gives 84.6761904762 accuracy\n",
        "With default parameters, extra tress gives 81.1428571429 accuracy"
       ]
      },
      {
       "output_type": "stream",
       "stream": "stdout",
       "text": [
        "\n"
       ]
      }
     ],
     "prompt_number": 20
    },
    {
     "cell_type": "heading",
     "level": 4,
     "metadata": {},
     "source": [
      "Adjusting parameters to find optimal accuracy score"
     ]
    },
    {
     "cell_type": "code",
     "collapsed": false,
     "input": [
      "# Accuracy score with increasing number of max_depth\n",
      "print 'Random Forest Classifier : \\n'\n",
      "for depth in [3, 5, 10, 15, 20, 25, 30]:\n",
      "    forest = RandomForestClassifier(max_depth = depth)\n",
      "    forest.fit(train_data, train_label)\n",
      "    forest_pred = forest.predict(test_data)\n",
      "    print 'Max depth of {0}, accuracy score = {1}' .format(depth, (accuracy_score(test_label, forest_pred))*100)\n",
      "\n",
      "print '\\nExtra Trees Classifier : \\n'\n",
      "for depth in [3, 5, 10, 15, 20, 25, 30]:\n",
      "    forest = ExtraTreesClassifier(max_depth = depth)\n",
      "    forest.fit(train_data, train_label)\n",
      "    forest_pred = forest.predict(test_data)\n",
      "    print 'Max depth of {0}, accuracy score = {1}' .format(depth, (accuracy_score(test_label, forest_pred))*100)"
     ],
     "language": "python",
     "metadata": {},
     "outputs": [
      {
       "output_type": "stream",
       "stream": "stdout",
       "text": [
        "Random Forest Classifier : \n",
        "\n",
        "Max depth of 3, accuracy score = 61.9428571429"
       ]
      },
      {
       "output_type": "stream",
       "stream": "stdout",
       "text": [
        "\n",
        "Max depth of 5, accuracy score = 73.5238095238"
       ]
      },
      {
       "output_type": "stream",
       "stream": "stdout",
       "text": [
        "\n",
        "Max depth of 10, accuracy score = 83.5333333333"
       ]
      },
      {
       "output_type": "stream",
       "stream": "stdout",
       "text": [
        "\n",
        "Max depth of 15, accuracy score = 84.9333333333"
       ]
      },
      {
       "output_type": "stream",
       "stream": "stdout",
       "text": [
        "\n",
        "Max depth of 20, accuracy score = 84.6380952381"
       ]
      },
      {
       "output_type": "stream",
       "stream": "stdout",
       "text": [
        "\n",
        "Max depth of 25, accuracy score = 85.019047619"
       ]
      },
      {
       "output_type": "stream",
       "stream": "stdout",
       "text": [
        "\n",
        "Max depth of 30, accuracy score = 84.9714285714"
       ]
      },
      {
       "output_type": "stream",
       "stream": "stdout",
       "text": [
        "\n",
        "\n",
        "Extra Trees Classifier : \n",
        "\n",
        "Max depth of 3, accuracy score = 51.4571428571"
       ]
      },
      {
       "output_type": "stream",
       "stream": "stdout",
       "text": [
        "\n",
        "Max depth of 5, accuracy score = 65.4952380952"
       ]
      },
      {
       "output_type": "stream",
       "stream": "stdout",
       "text": [
        "\n",
        "Max depth of 10, accuracy score = 78.8476190476"
       ]
      },
      {
       "output_type": "stream",
       "stream": "stdout",
       "text": [
        "\n",
        "Max depth of 15, accuracy score = 82.0857142857"
       ]
      },
      {
       "output_type": "stream",
       "stream": "stdout",
       "text": [
        "\n",
        "Max depth of 20, accuracy score = 82.8285714286"
       ]
      },
      {
       "output_type": "stream",
       "stream": "stdout",
       "text": [
        "\n",
        "Max depth of 25, accuracy score = 82.4380952381"
       ]
      },
      {
       "output_type": "stream",
       "stream": "stdout",
       "text": [
        "\n",
        "Max depth of 30, accuracy score = 81.3714285714"
       ]
      },
      {
       "output_type": "stream",
       "stream": "stdout",
       "text": [
        "\n"
       ]
      }
     ],
     "prompt_number": 21
    },
    {
     "cell_type": "markdown",
     "metadata": {},
     "source": [
      "Random forest clf highest accuracy score in the adjusted max_depth is about the same as the unadjusted max_depth, which is ~88%\n",
      "Extra trees clf is about 2% lower, but code processing speed is faster than random forest.\n",
      "Code processing speed is illustrated below."
     ]
    },
    {
     "cell_type": "code",
     "collapsed": false,
     "input": [
      "# Accuracy score using max_depth = 15 and increasing number of trees using random forest classifier\n",
      "t0 = time.time()\n",
      "\n",
      "x = range(10, 130, 10)\n",
      "y = []\n",
      "for tree in x:\n",
      "    forest = RandomForestClassifier(max_depth=15, n_estimators=tree)\n",
      "    forest.fit(train_data, train_label)\n",
      "    forest_pred = forest.predict(test_data)\n",
      "    #print '{0} trees, accuracy is {1}' .format(tree, (accuracy_score(test_label, forest_pred))*100)\n",
      "    y.append((accuracy_score(test_label, forest_pred))*100)\n",
      "    \n",
      "plt.plot(x, y, color='green', linestyle='solid', marker='o')\n",
      "plt.xlabel('Number of trees')\n",
      "plt.ylabel('Accuracy score (%)')\n",
      "\n",
      "t1 = time.time()\n",
      "print 'Speed for random forest model is {0} seconds.'.format(t1 - t0)"
     ],
     "language": "python",
     "metadata": {},
     "outputs": [
      {
       "output_type": "stream",
       "stream": "stdout",
       "text": [
        "Speed for random forest model is 106.049136162 seconds.\n"
       ]
      },
      {
       "metadata": {},
       "output_type": "display_data",
       "png": "[encoded data removed]",
       "text": [
        "<matplotlib.figure.Figure at 0x10b5bce10>"
       ]
      }
     ],
     "prompt_number": 22
    },
    {
     "cell_type": "code",
     "collapsed": false,
     "input": [
      "model2 = RandomForestClassifier(max_depth=15, n_estimators=120)\n",
      "model2.fit(train_data, train_label)\n",
      "test_pred2 = model2.predict(test_data)\n",
      "print 'With adjusted parameters, random forest accuracy is {0}' .format(accuracy_score(test_label, test_pred2)*100)"
     ],
     "language": "python",
     "metadata": {},
     "outputs": [
      {
       "output_type": "stream",
       "stream": "stdout",
       "text": [
        "With adjusted parameters, random forest accuracy is 92.3047619048\n"
       ]
      }
     ],
     "prompt_number": 24
    },
    {
     "cell_type": "code",
     "collapsed": false,
     "input": [
      "# Accuracy score using max_depth = 20 and increasing number of trees using extra trees classifier\n",
      "t0 = time.time()\n",
      "\n",
      "x = range(10, 130, 10)\n",
      "y = []\n",
      "for tree in x:\n",
      "    forest = ExtraTreesClassifier(max_depth=20, n_estimators=tree)\n",
      "    forest.fit(train_data, train_label)\n",
      "    forest_pred = forest.predict(test_data)\n",
      "    #print '{0} trees, accuracy is {1}' .format(tree, (accuracy_score(test_label, forest_pred))*100)\n",
      "    y.append((accuracy_score(test_label, forest_pred))*100)\n",
      "    \n",
      "plt.plot(x, y, color='green', linestyle='solid', marker='o')\n",
      "plt.xlabel('Number of trees')\n",
      "plt.ylabel('Accuracy score (%)')\n",
      "\n",
      "t1 = time.time()\n",
      "print 'Speed for extra trees model is {0} seconds.'.format(t1 - t0)"
     ],
     "language": "python",
     "metadata": {},
     "outputs": [
      {
       "output_type": "stream",
       "stream": "stdout",
       "text": [
        "Speed for extra trees model is 32.0906438828 seconds.\n"
       ]
      },
      {
       "metadata": {},
       "output_type": "display_data",
       "png": "[encoded data removed]",
       "text": [
        "<matplotlib.figure.Figure at 0x10c7c23d0>"
       ]
      }
     ],
     "prompt_number": 25
    },
    {
     "cell_type": "code",
     "collapsed": false,
     "input": [
      "xtra2 = ExtraTreesClassifier(max_depth=20, n_estimators=120)\n",
      "xtra2.fit(train_data, train_label)\n",
      "xtra_pred2 = xtra2.predict(test_data)\n",
      "print 'With adjusted parameters, random forest accuracy is {0}' .format(accuracy_score(test_label, xtra_pred2)*100)"
     ],
     "language": "python",
     "metadata": {},
     "outputs": [
      {
       "output_type": "stream",
       "stream": "stdout",
       "text": [
        "With adjusted parameters, random forest accuracy is 93.0285714286\n"
       ]
      }
     ],
     "prompt_number": 27
    },
    {
     "cell_type": "heading",
     "level": 4,
     "metadata": {},
     "source": [
      "Cross validation"
     ]
    },
    {
     "cell_type": "code",
     "collapsed": false,
     "input": [
      "# Cross validation using complete/entire sample(42,000)\n",
      "#cv1 = cross_val_score(RandomForestClassifier(max_depth=15, n_estimators=120), reduced_arr, array[:,0], cv = 5)\n",
      "#print 'Mean of cross validation for random forest clf is {0}' .format(cv1.mean()*100)\n",
      "#cv2 = cross_val_score(ExtraTreesClassifier(max_depth=20, n_estimators=120), reduced_arr, array[:,0], cv = 5)\n",
      "#print 'Mean of cross validation for extra trees clf is {0}' .format(cv2.mean()*100)"
     ],
     "language": "python",
     "metadata": {},
     "outputs": [
      {
       "output_type": "stream",
       "stream": "stdout",
       "text": [
        "Mean of cross validation for random forest clf is 94.0643320429\n",
        "Mean of cross validation for extra trees clf is 94.8738290684"
       ]
      },
      {
       "output_type": "stream",
       "stream": "stdout",
       "text": [
        "\n"
       ]
      }
     ],
     "prompt_number": 28
    },
    {
     "cell_type": "code",
     "collapsed": false,
     "input": [
      "# Cross validation using 21,000 samples\n",
      "cv1 = cross_val_score(RandomForestClassifier(max_depth=15, n_estimators=120), train_data, train_label, cv = 5)\n",
      "print 'Mean of cross validation for random forest clf is {0}' .format(cv1.mean()*100)\n",
      "cv2 = cross_val_score(ExtraTreesClassifier(max_depth=20, n_estimators=120), train_data, train_label, cv = 5)\n",
      "print 'Mean of cross validation for extra trees clf is {0}' .format(cv2.mean()*100)"
     ],
     "language": "python",
     "metadata": {},
     "outputs": [
      {
       "output_type": "stream",
       "stream": "stdout",
       "text": [
        "Mean of cross validation for random forest clf is 91.8951305632\n",
        "Mean of cross validation for extra trees clf is 93.0475135801"
       ]
      },
      {
       "output_type": "stream",
       "stream": "stdout",
       "text": [
        "\n"
       ]
      }
     ],
     "prompt_number": 29
    },
    {
     "cell_type": "heading",
     "level": 4,
     "metadata": {},
     "source": [
      "View where the errors are using confusion matrix"
     ]
    },
    {
     "cell_type": "code",
     "collapsed": false,
     "input": [
      "print 'Confusion matrix of default random forest \\n{0} \\n\\n \\\n",
      "Confusion matrix of adjusted random forest \\n{1} \\n\\n \\\n",
      "Confusion matrix of extra trees clf \\n{2}'.format(confusion_matrix(test_label, test_pred1), \\\n",
      "                                                  confusion_matrix(test_label, test_pred2), \\\n",
      "                                                  confusion_matrix(test_label, xtra_pred2)) "
     ],
     "language": "python",
     "metadata": {},
     "outputs": [
      {
       "output_type": "stream",
       "stream": "stdout",
       "text": [
        "Confusion matrix of default random forest \n",
        "[[ 928    2   14   14    4    8   22    3    4    0]\n",
        " [   1 1166    7    8    3    5    2    2    4    0]\n",
        " [  16    7  872   24   14    4   22   10   26   11]\n",
        " [  18    5   51  886    1   34    7   14   22   13]\n",
        " [   1   16   10    9  888   12   11   17    9   72]\n",
        " [  39    8   20  104   20  713   16    5   30   11]\n",
        " [  24    2   22    7   14   30  930    0    5    1]\n",
        " [   9   21   22   11   35    5    4  970    5   36]\n",
        " [  35   16   38   84   13   52   11   14  707   14]\n",
        " [  10   10   11   27  103   14    5   71   16  831]] \n",
        "\n",
        " Confusion matrix of adjusted random forest \n",
        "[[ 963    0    4    4    3    2   20    1    1    1]\n",
        " [   0 1171    3    9    0    4    2    2    5    2]\n",
        " [   5    0  921   15   16    0    3   15   27    4]\n",
        " [   4    2   15  965    3   20    5    8   25    4]\n",
        " [   4    9    6    3  955    2   11    3   10   42]\n",
        " [   6    1    5   47    9  872    8    2    8    8]\n",
        " [  11    3    2    0    3   14  999    0    2    1]\n",
        " [   3   13   13    1   13    6    0 1034    5   30]\n",
        " [   5    7   16   48    4   34    5    4  847   14]\n",
        " [   5    7    6   17   51    6    1   29   11  965]] \n",
        "\n",
        " Confusion matrix of extra trees clf \n",
        "[[ 967    0    1    3    2    0   24    1    1    0]\n",
        " [   0 1174    4    7    2    4    2    3    1    1]\n",
        " [   7    3  927    5   15    1    3   19   22    4]\n",
        " [   0    1   18  981    3   11    2    8   20    7]\n",
        " [   1   10    9    0  977    0    6    3    0   39]\n",
        " [  12    1    2   57    6  858   11    2   11    6]\n",
        " [  15    2    3    0    1    9 1001    0    4    0]\n",
        " [   2   14    9    0   15    2    0 1048    3   25]\n",
        " [  10    7   16   51    6   20    8    5  853    8]\n",
        " [   9    4    6   14   42    4    1   28    8  982]]\n"
       ]
      }
     ],
     "prompt_number": 30
    },
    {
     "cell_type": "heading",
     "level": 4,
     "metadata": {},
     "source": [
      "Summary of Random Forest and Extra Trees Classifiers"
     ]
    },
    {
     "cell_type": "markdown",
     "metadata": {},
     "source": [
      "Extra trees classifier performs a lot faster than random forest at increasing number of trees and max_depth. Results of the two at the end show that extra trees perform better than random forest. Since Extra trees improves the predictive accuracy and controls over-fitting, it seems more reasonable to use it when parameters such as max_depth and n_estimators are maximized. There is also a decrease, in general, in confusion matrix using tuned parameters using extra trees classifier model."
     ]
    },
    {
     "cell_type": "heading",
     "level": 3,
     "metadata": {},
     "source": [
      "III. K-Nearest Neighbour (KNN)"
     ]
    },
    {
     "cell_type": "code",
     "collapsed": false,
     "input": [
      "from sklearn.neighbors import KNeighborsClassifier\n",
      "\n",
      "model3 = KNeighborsClassifier(n_neighbors=1)\n",
      "model3.fit(train_data, train_label)\n",
      "model3_pred = model3.predict(test_data)\n",
      "accuracy_score(test_label, model3_pred)"
     ],
     "language": "python",
     "metadata": {},
     "outputs": [
      {
       "metadata": {},
       "output_type": "pyout",
       "prompt_number": 31,
       "text": [
        "0.95485714285714285"
       ]
      }
     ],
     "prompt_number": 31
    },
    {
     "cell_type": "code",
     "collapsed": false,
     "input": [
      "neighbours = range(1, 10)\n",
      "\n",
      "for n in neighbours:\n",
      "    clf = KNeighborsClassifier(n_neighbors=n)\n",
      "    clf.fit(train_data, train_label)\n",
      "    knn_pred = clf.predict(test_data)\n",
      "    plt.plot(n, accuracy_score(test_label, knn_pred), color = 'purple', marker = 'o')\n",
      "    \n",
      "plt.xlabel('Neighbours')\n",
      "plt.ylabel('Accuracy score')"
     ],
     "language": "python",
     "metadata": {},
     "outputs": [
      {
       "metadata": {},
       "output_type": "pyout",
       "prompt_number": 34,
       "text": [
        "<matplotlib.text.Text at 0x10f6aab10>"
       ]
      },
      {
       "metadata": {},
       "output_type": "display_data",
       "png": "[encoded data removed]",
       "text": [
        "<matplotlib.figure.Figure at 0x10b331710>"
       ]
      }
     ],
     "prompt_number": 34
    },
    {
     "cell_type": "markdown",
     "metadata": {},
     "source": [
      "Neighbours of 1 seems to have the best accuracy for this model."
     ]
    },
    {
     "cell_type": "heading",
     "level": 4,
     "metadata": {},
     "source": [
      "Cross validation"
     ]
    },
    {
     "cell_type": "code",
     "collapsed": false,
     "input": [
      "cv3 = cross_val_score(KNeighborsClassifier(n_neighbors=1), train_data, train_label, cv = 5)\n",
      "cv3.mean()"
     ],
     "language": "python",
     "metadata": {},
     "outputs": [
      {
       "metadata": {},
       "output_type": "pyout",
       "prompt_number": 38,
       "text": [
        "0.95038053043810089"
       ]
      }
     ],
     "prompt_number": 38
    },
    {
     "cell_type": "code",
     "collapsed": false,
     "input": [],
     "language": "python",
     "metadata": {},
     "outputs": []
    }
   ],
   "metadata": {}
  }
 ]
}