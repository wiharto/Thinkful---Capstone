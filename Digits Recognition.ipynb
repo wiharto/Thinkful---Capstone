{
 "metadata": {
  "name": "",
  "signature": "sha256:eb1605324977f98b4cf3ec52648f37846636b435ab75096d765fcd99a06946c2"
 },
 "nbformat": 3,
 "nbformat_minor": 0,
 "worksheets": [
  {
   "cells": [
    {
     "cell_type": "heading",
     "level": 2,
     "metadata": {},
     "source": [
      "CAPSTONE PROJECT : Thinkful's \"DATA SCIENCE IN PYTHON\" Course"
     ]
    },
    {
     "cell_type": "heading",
     "level": 3,
     "metadata": {},
     "source": [
      "DIGITS RECOGNITION"
     ]
    },
    {
     "cell_type": "markdown",
     "metadata": {},
     "source": [
      "Datasets were obtained from Kaggle."
     ]
    },
    {
     "cell_type": "heading",
     "level": 4,
     "metadata": {},
     "source": [
      "Import necessary packages"
     ]
    },
    {
     "cell_type": "code",
     "collapsed": false,
     "input": [
      "%matplotlib inline\n",
      "import pandas as pd\n",
      "import numpy as np\n",
      "import matplotlib.pyplot as plt\n",
      "import timeit\n",
      "\n",
      "# seaborn plotting style\n",
      "import seaborn as sns; sns.set()"
     ],
     "language": "python",
     "metadata": {},
     "outputs": [],
     "prompt_number": 1
    },
    {
     "cell_type": "heading",
     "level": 4,
     "metadata": {},
     "source": [
      "Read data and transform into an array"
     ]
    },
    {
     "cell_type": "code",
     "collapsed": false,
     "input": [
      "from sklearn.cross_validation import train_test_split\n",
      "\n",
      "df = pd.read_csv('/Users/patriciawiharto/Thinkful/Data_Science/Capstone_Project/train.csv')\n",
      "array = df.as_matrix()\n",
      "print array.shape"
     ],
     "language": "python",
     "metadata": {},
     "outputs": [
      {
       "output_type": "stream",
       "stream": "stdout",
       "text": [
        "(42000, 785)\n"
       ]
      }
     ],
     "prompt_number": 2
    },
    {
     "cell_type": "heading",
     "level": 4,
     "metadata": {},
     "source": [
      "Determine the best number of reduced dimensions using PCA"
     ]
    },
    {
     "cell_type": "code",
     "collapsed": false,
     "input": [
      "from sklearn.decomposition import PCA\n",
      "\n",
      "sns.set()\n",
      "pca = PCA()\n",
      "pca.fit(array[:, 1:])\n",
      "plt.plot(np.cumsum(pca.explained_variance_ratio_))\n",
      "plt.xlabel('number of dimensions')\n",
      "plt.ylabel('cumulative explained variance');"
     ],
     "language": "python",
     "metadata": {},
     "outputs": [
      {
       "metadata": {},
       "output_type": "display_data",
       "png": "[encoded data removed]",
       "text": [
        "<matplotlib.figure.Figure at 0x1020c7950>"
       ]
      }
     ],
     "prompt_number": 3
    },
    {
     "cell_type": "heading",
     "level": 4,
     "metadata": {},
     "source": [
      "Reduce dimensions using PCA"
     ]
    },
    {
     "cell_type": "markdown",
     "metadata": {},
     "source": [
      "Based on the graph above, reducing the data dimensions from 784 (excluding label) to 100 seems to be quite reasonable"
     ]
    },
    {
     "cell_type": "code",
     "collapsed": false,
     "input": [
      "pca = PCA(n_components = 100)\n",
      "reduced_arr = pca.fit_transform(array[:, 1:])\n",
      "print reduced_arr.shape"
     ],
     "language": "python",
     "metadata": {},
     "outputs": [
      {
       "output_type": "stream",
       "stream": "stdout",
       "text": [
        "(42000, 100)\n"
       ]
      }
     ],
     "prompt_number": 4
    },
    {
     "cell_type": "heading",
     "level": 4,
     "metadata": {},
     "source": [
      "Split data into test and training data"
     ]
    },
    {
     "cell_type": "code",
     "collapsed": false,
     "input": [
      "train_data, test_data, train_label, test_label = train_test_split(reduced_arr, array[:,0], train_size = 10000, test_size = 1000)\n",
      "print train_data.shape\n",
      "print train_data\n",
      "print train_label.shape\n",
      "print train_label"
     ],
     "language": "python",
     "metadata": {},
     "outputs": [
      {
       "output_type": "stream",
       "stream": "stdout",
       "text": [
        "(10000, 100)\n",
        "[[ 860.43968374  247.0217722    84.88984429 ...,  -74.58408402\n",
        "    27.86735914  -47.72643667]\n",
        " [ 440.20552811 -710.91217543 -275.8812589  ...,  -66.58456868\n",
        "   -12.78934985   35.28836981]\n",
        " [  81.55676462   69.04956875 -698.99760674 ...,   24.08169868\n",
        "    91.57719908  -18.10564805]\n",
        " ..., \n",
        " [-110.54834982 -615.35214407 -508.59940749 ...,  -74.94763928\n",
        "    24.39066999 -129.27666574]\n",
        " [-819.02163824  429.17049924 -752.61777743 ..., -168.97159896\n",
        "    63.25539058   11.94874208]\n",
        " [-270.5994949   -84.16895595 -956.1790779  ...,   29.19134894\n",
        "  -120.19780365   43.81233407]]\n",
        "(10000,)\n",
        "[1 7 6 ..., 4 0 2]\n"
       ]
      }
     ],
     "prompt_number": 5
    },
    {
     "cell_type": "heading",
     "level": 3,
     "metadata": {},
     "source": [
      "I. SVM (Support Vector Machine)"
     ]
    },
    {
     "cell_type": "heading",
     "level": 4,
     "metadata": {},
     "source": [
      "Fit training data and predict test data"
     ]
    },
    {
     "cell_type": "code",
     "collapsed": false,
     "input": [
      "from sklearn.svm import SVC\n",
      "\n",
      "clf = SVC(kernel = 'poly')\n",
      "clf.fit(train_data, train_label)"
     ],
     "language": "python",
     "metadata": {},
     "outputs": [
      {
       "metadata": {},
       "output_type": "pyout",
       "prompt_number": 6,
       "text": [
        "SVC(C=1.0, cache_size=200, class_weight=None, coef0=0.0, degree=3, gamma=0.0,\n",
        "  kernel='poly', max_iter=-1, probability=False, random_state=None,\n",
        "  shrinking=True, tol=0.001, verbose=False)"
       ]
      }
     ],
     "prompt_number": 6
    },
    {
     "cell_type": "code",
     "collapsed": false,
     "input": [
      "prediction = clf.predict(test_data)"
     ],
     "language": "python",
     "metadata": {},
     "outputs": [],
     "prompt_number": 7
    },
    {
     "cell_type": "heading",
     "level": 4,
     "metadata": {},
     "source": [
      "Create confusion matrix and accuracy score between predicted and real values"
     ]
    },
    {
     "cell_type": "code",
     "collapsed": false,
     "input": [
      "from sklearn.metrics import confusion_matrix, accuracy_score\n",
      "\n",
      "print confusion_matrix(test_label, prediction)"
     ],
     "language": "python",
     "metadata": {},
     "outputs": [
      {
       "output_type": "stream",
       "stream": "stdout",
       "text": [
        "[[ 83   0   0   0   0   0   0   0   1   0]\n",
        " [  0 105   0   0   1   1   0   0   0   0]\n",
        " [  0   0 103   0   0   0   0   0   1   0]\n",
        " [  0   0   2  85   0   1   0   0   3   0]\n",
        " [  0   0   0   0 118   0   0   1   0   4]\n",
        " [  0   0   0   1   0  82   0   0   0   1]\n",
        " [  1   1   0   0   0   0  92   0   0   0]\n",
        " [  0   0   0   0   0   0   0 107   0   1]\n",
        " [  0   0   0   0   0   1   0   0  95   0]\n",
        " [  0   0   0   1   2   0   0   2   1 103]]\n"
       ]
      }
     ],
     "prompt_number": 12
    },
    {
     "cell_type": "code",
     "collapsed": false,
     "input": [
      "# Adapted from Jake Vanderplas' sklearn pycon 2015, \"Basic Principles\"\n",
      "plt.imshow(np.log(confusion_matrix(test_label, prediction)),\n",
      "           cmap='coolwarm', interpolation='nearest')\n",
      "plt.grid(False)\n",
      "plt.ylabel('True Label')\n",
      "plt.xlabel('Predicted Label');"
     ],
     "language": "python",
     "metadata": {},
     "outputs": [
      {
       "metadata": {},
       "output_type": "display_data",
       "png": "[encoded data removed]",
       "text": [
        "<matplotlib.figure.Figure at 0x111859850>"
       ]
      }
     ],
     "prompt_number": 25
    },
    {
     "cell_type": "code",
     "collapsed": false,
     "input": [
      "print 'Accuracy of SVM method using \"poly\" kernel is %s' %accuracy_score(test_label, prediction)"
     ],
     "language": "python",
     "metadata": {},
     "outputs": [
      {
       "output_type": "stream",
       "stream": "stdout",
       "text": [
        "Accuracy of SVM method using \"poly\" kernel is 0.973\n"
       ]
      }
     ],
     "prompt_number": 11
    },
    {
     "cell_type": "heading",
     "level": 3,
     "metadata": {},
     "source": [
      "II. Random Forest"
     ]
    },
    {
     "cell_type": "heading",
     "level": 4,
     "metadata": {},
     "source": [
      "Import package and fit data and predict test data"
     ]
    },
    {
     "cell_type": "code",
     "collapsed": false,
     "input": [
      "from sklearn.ensemble import RandomForestClassifier\n",
      "\n",
      "forest = RandomForestClassifier(max_depth=10)\n",
      "forest.fit(train_data, train_label)"
     ],
     "language": "python",
     "metadata": {},
     "outputs": [
      {
       "metadata": {},
       "output_type": "pyout",
       "prompt_number": 80,
       "text": [
        "RandomForestClassifier(bootstrap=True, compute_importances=None,\n",
        "            criterion='gini', max_depth=10, max_features='auto',\n",
        "            max_leaf_nodes=None, min_density=None, min_samples_leaf=1,\n",
        "            min_samples_split=2, n_estimators=10, n_jobs=1,\n",
        "            oob_score=False, random_state=None, verbose=0)"
       ]
      }
     ],
     "prompt_number": 80
    },
    {
     "cell_type": "code",
     "collapsed": false,
     "input": [
      "forest_pred = forest.predict(test_data)"
     ],
     "language": "python",
     "metadata": {},
     "outputs": [],
     "prompt_number": 81
    },
    {
     "cell_type": "heading",
     "level": 4,
     "metadata": {},
     "source": [
      "Print and plot confusion matrix and accuracy score"
     ]
    },
    {
     "cell_type": "code",
     "collapsed": false,
     "input": [
      "print confusion_matrix(test_label, forest_pred)"
     ],
     "language": "python",
     "metadata": {},
     "outputs": [
      {
       "output_type": "stream",
       "stream": "stdout",
       "text": [
        "[[ 78   0   0   1   0   0   4   0   1   0]\n",
        " [  0 103   0   3   0   0   0   0   1   0]\n",
        " [  1   1  94   3   1   1   1   0   1   1]\n",
        " [  0   0   4  73   0   8   0   0   3   3]\n",
        " [  0   1   2   2  97   1   2   4   5   9]\n",
        " [  1   0   3  12   6  57   0   1   3   1]\n",
        " [  4   1   3   0   0   1  85   0   0   0]\n",
        " [  0   4   3   0   3   0   0  92   1   5]\n",
        " [  2   0   2   5   1   7   0   0  72   7]\n",
        " [  1   0   1   2   6   1   0   7   2  89]]\n"
       ]
      }
     ],
     "prompt_number": 82
    },
    {
     "cell_type": "code",
     "collapsed": false,
     "input": [
      "plt.imshow(np.log(confusion_matrix(test_label, forest_pred)),\n",
      "           cmap='Purples', interpolation='nearest')\n",
      "plt.grid(False)\n",
      "plt.ylabel('True Label')\n",
      "plt.xlabel('Predicted Label');"
     ],
     "language": "python",
     "metadata": {},
     "outputs": [
      {
       "metadata": {},
       "output_type": "display_data",
       "png": "[encoded data removed]",
       "text": [
        "<matplotlib.figure.Figure at 0x111f8a310>"
       ]
      }
     ],
     "prompt_number": 83
    },
    {
     "cell_type": "code",
     "collapsed": false,
     "input": [
      "print 'Accuracy of random forest method is %s' %accuracy_score(test_label, forest_pred)"
     ],
     "language": "python",
     "metadata": {},
     "outputs": [
      {
       "output_type": "stream",
       "stream": "stdout",
       "text": [
        "Accuracy of random forest method is 0.84\n"
       ]
      }
     ],
     "prompt_number": 84
    }
   ],
   "metadata": {}
  }
 ]
}